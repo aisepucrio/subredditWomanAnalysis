{
  "nbformat": 4,
  "nbformat_minor": 0,
  "metadata": {
    "colab": {
      "provenance": []
    },
    "kernelspec": {
      "name": "python3",
      "display_name": "Python 3"
    },
    "language_info": {
      "name": "python"
    }
  },
  "cells": [
    {
      "cell_type": "code",
      "execution_count": null,
      "metadata": {
        "id": "HQ2836onLIWV"
      },
      "outputs": [],
      "source": [
        "import pandas as pd"
      ]
    },
    {
      "cell_type": "code",
      "source": [
        "# organize the dataset\n",
        "df1= pd.read_csv('posts_8.csv')\n",
        "df2= pd.read_csv('posts_11.csv')\n",
        "df3= pd.read_csv('posts_12.csv')"
      ],
      "metadata": {
        "id": "VYB9V9YZLPwf"
      },
      "execution_count": null,
      "outputs": []
    },
    {
      "cell_type": "code",
      "source": [
        "df = pd.concat([df1,df2,df3], axis=0)"
      ],
      "metadata": {
        "id": "z7KMg-MrLUJ0"
      },
      "execution_count": null,
      "outputs": []
    },
    {
      "cell_type": "code",
      "source": [
        "len(df)"
      ],
      "metadata": {
        "colab": {
          "base_uri": "https://localhost:8080/"
        },
        "id": "clcBArheLXcI",
        "outputId": "01536ef1-6b14-4465-aafe-fb06ebfa7052"
      },
      "execution_count": null,
      "outputs": [
        {
          "output_type": "execute_result",
          "data": {
            "text/plain": [
              "2411"
            ]
          },
          "metadata": {},
          "execution_count": 28
        }
      ]
    },
    {
      "cell_type": "code",
      "source": [
        "# remove dupplicate\n",
        "df.duplicated().sum()"
      ],
      "metadata": {
        "colab": {
          "base_uri": "https://localhost:8080/"
        },
        "id": "BQ0khf1ALY9U",
        "outputId": "5519ff97-9ec0-424d-e6bf-18824b39ca0e"
      },
      "execution_count": null,
      "outputs": [
        {
          "output_type": "execute_result",
          "data": {
            "text/plain": [
              "np.int64(44)"
            ]
          },
          "metadata": {},
          "execution_count": 35
        }
      ]
    },
    {
      "cell_type": "code",
      "source": [
        "df.drop_duplicates(inplace=True)"
      ],
      "metadata": {
        "id": "nokO7Iu9Lgn-"
      },
      "execution_count": null,
      "outputs": []
    },
    {
      "cell_type": "code",
      "source": [
        "len(df)"
      ],
      "metadata": {
        "colab": {
          "base_uri": "https://localhost:8080/"
        },
        "id": "ZD2vj6vyi_O-",
        "outputId": "8e0471b0-68e2-4250-fb9c-ab257d335536"
      },
      "execution_count": null,
      "outputs": [
        {
          "output_type": "execute_result",
          "data": {
            "text/plain": [
              "2367"
            ]
          },
          "metadata": {},
          "execution_count": 38
        }
      ]
    },
    {
      "cell_type": "code",
      "source": [
        "# autor (user) anonymization"
      ],
      "metadata": {
        "colab": {
          "base_uri": "https://localhost:8080/",
          "height": 677
        },
        "id": "W_8w52pnjEst",
        "outputId": "03ce6ce4-2231-4a6e-c43b-4956bc32d9d5"
      },
      "execution_count": null,
      "outputs": [
        {
          "output_type": "execute_result",
          "data": {
            "text/plain": [
              "        ID                  Date    Subreddit  \\\n",
              "0  1gl2h1y  2024-11-06 16:28:01   womenintech   \n",
              "1  1hcv1ab  2024-12-12 20:51:55   womenintech   \n",
              "2  1fzvk1s  2024-10-09 16:28:10   womenintech   \n",
              "3  1eemu9y  2024-07-29 01:01:50   womenintech   \n",
              "4  1ey5rsx  2024-08-22 00:32:53   womenintech   \n",
              "\n",
              "                                                 URL  \\\n",
              "0  https://www.reddit.com/r/womenintech/comments/...   \n",
              "1  https://www.reddit.com/r/womenintech/comments/...   \n",
              "2  https://fortune.com/2024/08/08/most-high-perfo...   \n",
              "3  https://www.reddit.com/r/womenintech/comments/...   \n",
              "4  https://www.reddit.com/r/womenintech/comments/...   \n",
              "\n",
              "                                               Title  \\\n",
              "0        Election talk at work: don’t take the bait    \n",
              "1         Stand your ground. You’re not a secretary    \n",
              "2  Around 76% of high-performing women receive ne...   \n",
              "3  Colleague assumed I was pregnant when I said “...   \n",
              "4                       This is why women leave tech   \n",
              "\n",
              "                                                Text               Author  \\\n",
              "0  If anyone, but especially men, at work want to...  i_made_a_reddit_wow   \n",
              "1  What are the creative ways you’ve had to tell ...         krazycitty69   \n",
              "2  About 76% of top-performing working women rece...    Direct_Shock_9405   \n",
              "3  A few weeks ago, I was taking a virtual meetin...         bkrunnergirl   \n",
              "4  I feel like I'm at a breaking point here. I lo...              Daerina   \n",
              "\n",
              "   Score  num_comment  \n",
              "0  10676          484  \n",
              "1   5001          396  \n",
              "2   4278          327  \n",
              "3   2698          148  \n",
              "4   2146          197  "
            ],
            "text/html": [
              "\n",
              "  <div id=\"df-d6745c7e-4d53-4a87-a283-9dab3cc6e822\" class=\"colab-df-container\">\n",
              "    <div>\n",
              "<style scoped>\n",
              "    .dataframe tbody tr th:only-of-type {\n",
              "        vertical-align: middle;\n",
              "    }\n",
              "\n",
              "    .dataframe tbody tr th {\n",
              "        vertical-align: top;\n",
              "    }\n",
              "\n",
              "    .dataframe thead th {\n",
              "        text-align: right;\n",
              "    }\n",
              "</style>\n",
              "<table border=\"1\" class=\"dataframe\">\n",
              "  <thead>\n",
              "    <tr style=\"text-align: right;\">\n",
              "      <th></th>\n",
              "      <th>ID</th>\n",
              "      <th>Date</th>\n",
              "      <th>Subreddit</th>\n",
              "      <th>URL</th>\n",
              "      <th>Title</th>\n",
              "      <th>Text</th>\n",
              "      <th>Author</th>\n",
              "      <th>Score</th>\n",
              "      <th>num_comment</th>\n",
              "    </tr>\n",
              "  </thead>\n",
              "  <tbody>\n",
              "    <tr>\n",
              "      <th>0</th>\n",
              "      <td>1gl2h1y</td>\n",
              "      <td>2024-11-06 16:28:01</td>\n",
              "      <td>womenintech</td>\n",
              "      <td>https://www.reddit.com/r/womenintech/comments/...</td>\n",
              "      <td>Election talk at work: don’t take the bait</td>\n",
              "      <td>If anyone, but especially men, at work want to...</td>\n",
              "      <td>i_made_a_reddit_wow</td>\n",
              "      <td>10676</td>\n",
              "      <td>484</td>\n",
              "    </tr>\n",
              "    <tr>\n",
              "      <th>1</th>\n",
              "      <td>1hcv1ab</td>\n",
              "      <td>2024-12-12 20:51:55</td>\n",
              "      <td>womenintech</td>\n",
              "      <td>https://www.reddit.com/r/womenintech/comments/...</td>\n",
              "      <td>Stand your ground. You’re not a secretary</td>\n",
              "      <td>What are the creative ways you’ve had to tell ...</td>\n",
              "      <td>krazycitty69</td>\n",
              "      <td>5001</td>\n",
              "      <td>396</td>\n",
              "    </tr>\n",
              "    <tr>\n",
              "      <th>2</th>\n",
              "      <td>1fzvk1s</td>\n",
              "      <td>2024-10-09 16:28:10</td>\n",
              "      <td>womenintech</td>\n",
              "      <td>https://fortune.com/2024/08/08/most-high-perfo...</td>\n",
              "      <td>Around 76% of high-performing women receive ne...</td>\n",
              "      <td>About 76% of top-performing working women rece...</td>\n",
              "      <td>Direct_Shock_9405</td>\n",
              "      <td>4278</td>\n",
              "      <td>327</td>\n",
              "    </tr>\n",
              "    <tr>\n",
              "      <th>3</th>\n",
              "      <td>1eemu9y</td>\n",
              "      <td>2024-07-29 01:01:50</td>\n",
              "      <td>womenintech</td>\n",
              "      <td>https://www.reddit.com/r/womenintech/comments/...</td>\n",
              "      <td>Colleague assumed I was pregnant when I said “...</td>\n",
              "      <td>A few weeks ago, I was taking a virtual meetin...</td>\n",
              "      <td>bkrunnergirl</td>\n",
              "      <td>2698</td>\n",
              "      <td>148</td>\n",
              "    </tr>\n",
              "    <tr>\n",
              "      <th>4</th>\n",
              "      <td>1ey5rsx</td>\n",
              "      <td>2024-08-22 00:32:53</td>\n",
              "      <td>womenintech</td>\n",
              "      <td>https://www.reddit.com/r/womenintech/comments/...</td>\n",
              "      <td>This is why women leave tech</td>\n",
              "      <td>I feel like I'm at a breaking point here. I lo...</td>\n",
              "      <td>Daerina</td>\n",
              "      <td>2146</td>\n",
              "      <td>197</td>\n",
              "    </tr>\n",
              "  </tbody>\n",
              "</table>\n",
              "</div>\n",
              "    <div class=\"colab-df-buttons\">\n",
              "\n",
              "  <div class=\"colab-df-container\">\n",
              "    <button class=\"colab-df-convert\" onclick=\"convertToInteractive('df-d6745c7e-4d53-4a87-a283-9dab3cc6e822')\"\n",
              "            title=\"Convert this dataframe to an interactive table.\"\n",
              "            style=\"display:none;\">\n",
              "\n",
              "  <svg xmlns=\"http://www.w3.org/2000/svg\" height=\"24px\" viewBox=\"0 -960 960 960\">\n",
              "    <path d=\"M120-120v-720h720v720H120Zm60-500h600v-160H180v160Zm220 220h160v-160H400v160Zm0 220h160v-160H400v160ZM180-400h160v-160H180v160Zm440 0h160v-160H620v160ZM180-180h160v-160H180v160Zm440 0h160v-160H620v160Z\"/>\n",
              "  </svg>\n",
              "    </button>\n",
              "\n",
              "  <style>\n",
              "    .colab-df-container {\n",
              "      display:flex;\n",
              "      gap: 12px;\n",
              "    }\n",
              "\n",
              "    .colab-df-convert {\n",
              "      background-color: #E8F0FE;\n",
              "      border: none;\n",
              "      border-radius: 50%;\n",
              "      cursor: pointer;\n",
              "      display: none;\n",
              "      fill: #1967D2;\n",
              "      height: 32px;\n",
              "      padding: 0 0 0 0;\n",
              "      width: 32px;\n",
              "    }\n",
              "\n",
              "    .colab-df-convert:hover {\n",
              "      background-color: #E2EBFA;\n",
              "      box-shadow: 0px 1px 2px rgba(60, 64, 67, 0.3), 0px 1px 3px 1px rgba(60, 64, 67, 0.15);\n",
              "      fill: #174EA6;\n",
              "    }\n",
              "\n",
              "    .colab-df-buttons div {\n",
              "      margin-bottom: 4px;\n",
              "    }\n",
              "\n",
              "    [theme=dark] .colab-df-convert {\n",
              "      background-color: #3B4455;\n",
              "      fill: #D2E3FC;\n",
              "    }\n",
              "\n",
              "    [theme=dark] .colab-df-convert:hover {\n",
              "      background-color: #434B5C;\n",
              "      box-shadow: 0px 1px 3px 1px rgba(0, 0, 0, 0.15);\n",
              "      filter: drop-shadow(0px 1px 2px rgba(0, 0, 0, 0.3));\n",
              "      fill: #FFFFFF;\n",
              "    }\n",
              "  </style>\n",
              "\n",
              "    <script>\n",
              "      const buttonEl =\n",
              "        document.querySelector('#df-d6745c7e-4d53-4a87-a283-9dab3cc6e822 button.colab-df-convert');\n",
              "      buttonEl.style.display =\n",
              "        google.colab.kernel.accessAllowed ? 'block' : 'none';\n",
              "\n",
              "      async function convertToInteractive(key) {\n",
              "        const element = document.querySelector('#df-d6745c7e-4d53-4a87-a283-9dab3cc6e822');\n",
              "        const dataTable =\n",
              "          await google.colab.kernel.invokeFunction('convertToInteractive',\n",
              "                                                    [key], {});\n",
              "        if (!dataTable) return;\n",
              "\n",
              "        const docLinkHtml = 'Like what you see? Visit the ' +\n",
              "          '<a target=\"_blank\" href=https://colab.research.google.com/notebooks/data_table.ipynb>data table notebook</a>'\n",
              "          + ' to learn more about interactive tables.';\n",
              "        element.innerHTML = '';\n",
              "        dataTable['output_type'] = 'display_data';\n",
              "        await google.colab.output.renderOutput(dataTable, element);\n",
              "        const docLink = document.createElement('div');\n",
              "        docLink.innerHTML = docLinkHtml;\n",
              "        element.appendChild(docLink);\n",
              "      }\n",
              "    </script>\n",
              "  </div>\n",
              "\n",
              "\n",
              "    <div id=\"df-2e7d656e-b963-48d5-9f13-a3fa9e7475e6\">\n",
              "      <button class=\"colab-df-quickchart\" onclick=\"quickchart('df-2e7d656e-b963-48d5-9f13-a3fa9e7475e6')\"\n",
              "                title=\"Suggest charts\"\n",
              "                style=\"display:none;\">\n",
              "\n",
              "<svg xmlns=\"http://www.w3.org/2000/svg\" height=\"24px\"viewBox=\"0 0 24 24\"\n",
              "     width=\"24px\">\n",
              "    <g>\n",
              "        <path d=\"M19 3H5c-1.1 0-2 .9-2 2v14c0 1.1.9 2 2 2h14c1.1 0 2-.9 2-2V5c0-1.1-.9-2-2-2zM9 17H7v-7h2v7zm4 0h-2V7h2v10zm4 0h-2v-4h2v4z\"/>\n",
              "    </g>\n",
              "</svg>\n",
              "      </button>\n",
              "\n",
              "<style>\n",
              "  .colab-df-quickchart {\n",
              "      --bg-color: #E8F0FE;\n",
              "      --fill-color: #1967D2;\n",
              "      --hover-bg-color: #E2EBFA;\n",
              "      --hover-fill-color: #174EA6;\n",
              "      --disabled-fill-color: #AAA;\n",
              "      --disabled-bg-color: #DDD;\n",
              "  }\n",
              "\n",
              "  [theme=dark] .colab-df-quickchart {\n",
              "      --bg-color: #3B4455;\n",
              "      --fill-color: #D2E3FC;\n",
              "      --hover-bg-color: #434B5C;\n",
              "      --hover-fill-color: #FFFFFF;\n",
              "      --disabled-bg-color: #3B4455;\n",
              "      --disabled-fill-color: #666;\n",
              "  }\n",
              "\n",
              "  .colab-df-quickchart {\n",
              "    background-color: var(--bg-color);\n",
              "    border: none;\n",
              "    border-radius: 50%;\n",
              "    cursor: pointer;\n",
              "    display: none;\n",
              "    fill: var(--fill-color);\n",
              "    height: 32px;\n",
              "    padding: 0;\n",
              "    width: 32px;\n",
              "  }\n",
              "\n",
              "  .colab-df-quickchart:hover {\n",
              "    background-color: var(--hover-bg-color);\n",
              "    box-shadow: 0 1px 2px rgba(60, 64, 67, 0.3), 0 1px 3px 1px rgba(60, 64, 67, 0.15);\n",
              "    fill: var(--button-hover-fill-color);\n",
              "  }\n",
              "\n",
              "  .colab-df-quickchart-complete:disabled,\n",
              "  .colab-df-quickchart-complete:disabled:hover {\n",
              "    background-color: var(--disabled-bg-color);\n",
              "    fill: var(--disabled-fill-color);\n",
              "    box-shadow: none;\n",
              "  }\n",
              "\n",
              "  .colab-df-spinner {\n",
              "    border: 2px solid var(--fill-color);\n",
              "    border-color: transparent;\n",
              "    border-bottom-color: var(--fill-color);\n",
              "    animation:\n",
              "      spin 1s steps(1) infinite;\n",
              "  }\n",
              "\n",
              "  @keyframes spin {\n",
              "    0% {\n",
              "      border-color: transparent;\n",
              "      border-bottom-color: var(--fill-color);\n",
              "      border-left-color: var(--fill-color);\n",
              "    }\n",
              "    20% {\n",
              "      border-color: transparent;\n",
              "      border-left-color: var(--fill-color);\n",
              "      border-top-color: var(--fill-color);\n",
              "    }\n",
              "    30% {\n",
              "      border-color: transparent;\n",
              "      border-left-color: var(--fill-color);\n",
              "      border-top-color: var(--fill-color);\n",
              "      border-right-color: var(--fill-color);\n",
              "    }\n",
              "    40% {\n",
              "      border-color: transparent;\n",
              "      border-right-color: var(--fill-color);\n",
              "      border-top-color: var(--fill-color);\n",
              "    }\n",
              "    60% {\n",
              "      border-color: transparent;\n",
              "      border-right-color: var(--fill-color);\n",
              "    }\n",
              "    80% {\n",
              "      border-color: transparent;\n",
              "      border-right-color: var(--fill-color);\n",
              "      border-bottom-color: var(--fill-color);\n",
              "    }\n",
              "    90% {\n",
              "      border-color: transparent;\n",
              "      border-bottom-color: var(--fill-color);\n",
              "    }\n",
              "  }\n",
              "</style>\n",
              "\n",
              "      <script>\n",
              "        async function quickchart(key) {\n",
              "          const quickchartButtonEl =\n",
              "            document.querySelector('#' + key + ' button');\n",
              "          quickchartButtonEl.disabled = true;  // To prevent multiple clicks.\n",
              "          quickchartButtonEl.classList.add('colab-df-spinner');\n",
              "          try {\n",
              "            const charts = await google.colab.kernel.invokeFunction(\n",
              "                'suggestCharts', [key], {});\n",
              "          } catch (error) {\n",
              "            console.error('Error during call to suggestCharts:', error);\n",
              "          }\n",
              "          quickchartButtonEl.classList.remove('colab-df-spinner');\n",
              "          quickchartButtonEl.classList.add('colab-df-quickchart-complete');\n",
              "        }\n",
              "        (() => {\n",
              "          let quickchartButtonEl =\n",
              "            document.querySelector('#df-2e7d656e-b963-48d5-9f13-a3fa9e7475e6 button');\n",
              "          quickchartButtonEl.style.display =\n",
              "            google.colab.kernel.accessAllowed ? 'block' : 'none';\n",
              "        })();\n",
              "      </script>\n",
              "    </div>\n",
              "\n",
              "    </div>\n",
              "  </div>\n"
            ],
            "application/vnd.google.colaboratory.intrinsic+json": {
              "type": "dataframe",
              "variable_name": "df",
              "summary": "{\n  \"name\": \"df\",\n  \"rows\": 2367,\n  \"fields\": [\n    {\n      \"column\": \"ID\",\n      \"properties\": {\n        \"dtype\": \"string\",\n        \"num_unique_values\": 2138,\n        \"samples\": [\n          \"1fyhgd2\",\n          \"1gr86p2\",\n          \"1k0tkqz\"\n        ],\n        \"semantic_type\": \"\",\n        \"description\": \"\"\n      }\n    },\n    {\n      \"column\": \"Date\",\n      \"properties\": {\n        \"dtype\": \"date\",\n        \"min\": \"2024-04-24 19:08:56 \",\n        \"max\": \"2025-04-29 15:50:59 \",\n        \"num_unique_values\": 2138,\n        \"samples\": [\n          \"2024-10-07 20:16:57 \",\n          \"2024-11-14 16:06:01 \",\n          \"2025-04-16 19:47:38 \"\n        ],\n        \"semantic_type\": \"\",\n        \"description\": \"\"\n      }\n    },\n    {\n      \"column\": \"Subreddit\",\n      \"properties\": {\n        \"dtype\": \"category\",\n        \"num_unique_values\": 1,\n        \"samples\": [\n          \"womenintech\"\n        ],\n        \"semantic_type\": \"\",\n        \"description\": \"\"\n      }\n    },\n    {\n      \"column\": \"URL\",\n      \"properties\": {\n        \"dtype\": \"string\",\n        \"num_unique_values\": 2138,\n        \"samples\": [\n          \"https://www.reddit.com/r/womenintech/comments/1fyhgd2/your_suggestions_helped_me_transfer_away_from_a/\"\n        ],\n        \"semantic_type\": \"\",\n        \"description\": \"\"\n      }\n    },\n    {\n      \"column\": \"Title\",\n      \"properties\": {\n        \"dtype\": \"string\",\n        \"num_unique_values\": 2134,\n        \"samples\": [\n          \"Be careful with working for Globant\"\n        ],\n        \"semantic_type\": \"\",\n        \"description\": \"\"\n      }\n    },\n    {\n      \"column\": \"Text\",\n      \"properties\": {\n        \"dtype\": \"string\",\n        \"num_unique_values\": 2020,\n        \"samples\": [\n          \"I\\u2019m feeling so lost and unsure what to do. I come from a background in Anthropology and Chemistry. I had a Fulbright fellowship and I\\u2019ve returned back to the US unsure of what to do. I wanted to pivot into tech and looked for programs for people without a traditional CS background. I applied for a bridge to cs program at Columbia and was rejected. Now trying again to apply for MS programs at other schools but I\\u2019m so scared. A friend\\u2019s boyfriend called me an idiot for looking into MS programs instead of going to a bootcamp like he did. I don\\u2019t know what to do and I feel like I\\u2019m going to be a loser forever. \"\n        ],\n        \"semantic_type\": \"\",\n        \"description\": \"\"\n      }\n    },\n    {\n      \"column\": \"Author\",\n      \"properties\": {\n        \"dtype\": \"string\",\n        \"num_unique_values\": 1595,\n        \"samples\": [\n          \"creativesc1entist\"\n        ],\n        \"semantic_type\": \"\",\n        \"description\": \"\"\n      }\n    },\n    {\n      \"column\": \"Score\",\n      \"properties\": {\n        \"dtype\": \"number\",\n        \"std\": 709,\n        \"min\": 0,\n        \"max\": 11811,\n        \"num_unique_values\": 602,\n        \"samples\": [\n          260\n        ],\n        \"semantic_type\": \"\",\n        \"description\": \"\"\n      }\n    },\n    {\n      \"column\": \"num_comment\",\n      \"properties\": {\n        \"dtype\": \"number\",\n        \"std\": 66,\n        \"min\": 0,\n        \"max\": 1023,\n        \"num_unique_values\": 227,\n        \"samples\": [\n          114\n        ],\n        \"semantic_type\": \"\",\n        \"description\": \"\"\n      }\n    }\n  ]\n}"
            }
          },
          "metadata": {},
          "execution_count": 39
        }
      ]
    },
    {
      "cell_type": "code",
      "source": [
        "# dict\n",
        "# key = oficial name\n",
        "# value = user_id"
      ],
      "metadata": {
        "id": "cmbppEOhjOmy"
      },
      "execution_count": null,
      "outputs": []
    },
    {
      "cell_type": "code",
      "source": [
        "user_name = {}\n",
        "number = 1"
      ],
      "metadata": {
        "id": "CcWQlAxNoDNI"
      },
      "execution_count": null,
      "outputs": []
    },
    {
      "cell_type": "code",
      "source": [
        "for autor in df[\"Author\"]:\n",
        "    if autor not in user_name:\n",
        "        user_name[autor] =\"user_\"+str(number)\n",
        "        number = number+1\n",
        "\n"
      ],
      "metadata": {
        "id": "RyWO_e-yomnB"
      },
      "execution_count": null,
      "outputs": []
    },
    {
      "cell_type": "code",
      "source": [
        "def replace_name(name):\n",
        "    if name in user_name:\n",
        "        return user_name[name]"
      ],
      "metadata": {
        "id": "X4HYFbSkpdkt"
      },
      "execution_count": null,
      "outputs": []
    },
    {
      "cell_type": "code",
      "source": [
        "df[\"Author\"]= df[\"Author\"].apply(lambda x: replace_name(x))"
      ],
      "metadata": {
        "id": "7nIUCP2ipv_5"
      },
      "execution_count": null,
      "outputs": []
    },
    {
      "cell_type": "code",
      "source": [
        "df.to_csv('posts_final.csv', index=False)"
      ],
      "metadata": {
        "id": "6PoRFSTCrL7Y"
      },
      "execution_count": null,
      "outputs": []
    },
    {
      "cell_type": "code",
      "source": [
        "arq = \"labels.txt\"\n",
        "with open(arq, \"w\") as f:\n",
        "    f.write(str(user_name))"
      ],
      "metadata": {
        "id": "1eqsddPmrNHR"
      },
      "execution_count": null,
      "outputs": []
    },
    {
      "cell_type": "code",
      "source": [],
      "metadata": {
        "id": "RZ5NDOGqsjpJ"
      },
      "execution_count": null,
      "outputs": []
    }
  ]
}