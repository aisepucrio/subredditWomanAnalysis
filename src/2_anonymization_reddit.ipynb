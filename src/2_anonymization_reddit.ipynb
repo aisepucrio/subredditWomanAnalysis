{
  "nbformat": 4,
  "nbformat_minor": 0,
  "metadata": {
    "colab": {
      "provenance": []
    },
    "kernelspec": {
      "name": "python3",
      "display_name": "Python 3"
    },
    "language_info": {
      "name": "python"
    }
  },
  "cells": [
    {
      "cell_type": "code",
      "execution_count": null,
      "metadata": {
        "id": "HQ2836onLIWV"
      },
      "outputs": [],
      "source": [
        "import pandas as pd"
      ]
    },
    {
      "cell_type": "markdown",
      "source": [
        "## This step concatenates the three datasets extracted in the previous phase.\n",
        "\n",
        " **If you're working with only one data file, you can skip this section and load your dataset directly using your preferred method**"
      ],
      "metadata": {
        "id": "8CStoSCjbiIm"
      }
    },
    {
      "cell_type": "code",
      "source": [
        "# organize the dataset\n",
        "df1= pd.read_csv('posts_8.csv')\n",
        "df2= pd.read_csv('posts_11.csv')\n",
        "df3= pd.read_csv('posts_12.csv')"
      ],
      "metadata": {
        "id": "VYB9V9YZLPwf"
      },
      "execution_count": null,
      "outputs": []
    },
    {
      "cell_type": "code",
      "source": [
        "df = pd.concat([df1,df2,df3], axis=0)"
      ],
      "metadata": {
        "id": "z7KMg-MrLUJ0"
      },
      "execution_count": null,
      "outputs": []
    },
    {
      "cell_type": "code",
      "source": [
        "len(df)"
      ],
      "metadata": {
        "colab": {
          "base_uri": "https://localhost:8080/"
        },
        "id": "clcBArheLXcI",
        "outputId": "01536ef1-6b14-4465-aafe-fb06ebfa7052"
      },
      "execution_count": null,
      "outputs": [
        {
          "output_type": "execute_result",
          "data": {
            "text/plain": [
              "2411"
            ]
          },
          "metadata": {},
          "execution_count": 28
        }
      ]
    },
    {
      "cell_type": "code",
      "source": [
        "# remove dupplicate\n",
        "df.duplicated().sum()"
      ],
      "metadata": {
        "colab": {
          "base_uri": "https://localhost:8080/"
        },
        "id": "BQ0khf1ALY9U",
        "outputId": "5519ff97-9ec0-424d-e6bf-18824b39ca0e"
      },
      "execution_count": null,
      "outputs": [
        {
          "output_type": "execute_result",
          "data": {
            "text/plain": [
              "np.int64(44)"
            ]
          },
          "metadata": {},
          "execution_count": 35
        }
      ]
    },
    {
      "cell_type": "code",
      "source": [
        "df.drop_duplicates(inplace=True)"
      ],
      "metadata": {
        "id": "nokO7Iu9Lgn-"
      },
      "execution_count": null,
      "outputs": []
    },
    {
      "cell_type": "code",
      "source": [
        "len(df)"
      ],
      "metadata": {
        "colab": {
          "base_uri": "https://localhost:8080/"
        },
        "id": "ZD2vj6vyi_O-",
        "outputId": "8e0471b0-68e2-4250-fb9c-ab257d335536"
      },
      "execution_count": null,
      "outputs": [
        {
          "output_type": "execute_result",
          "data": {
            "text/plain": [
              "2367"
            ]
          },
          "metadata": {},
          "execution_count": 38
        }
      ]
    },
    {
      "cell_type": "markdown",
      "source": [
        "# autor (user) anonymization"
      ],
      "metadata": {
        "id": "V4KY8ty3ch4q"
      }
    },
    {
      "cell_type": "code",
      "source": [
        "# dict\n",
        "# key = oficial name\n",
        "# value = user_id"
      ],
      "metadata": {
        "id": "cmbppEOhjOmy"
      },
      "execution_count": null,
      "outputs": []
    },
    {
      "cell_type": "code",
      "source": [
        "user_name = {}\n",
        "number = 1"
      ],
      "metadata": {
        "id": "CcWQlAxNoDNI"
      },
      "execution_count": null,
      "outputs": []
    },
    {
      "cell_type": "code",
      "source": [
        "for autor in df[\"Author\"]:\n",
        "    if autor not in user_name:\n",
        "        user_name[autor] =\"user_\"+str(number)\n",
        "        number = number+1\n",
        "\n"
      ],
      "metadata": {
        "id": "RyWO_e-yomnB"
      },
      "execution_count": null,
      "outputs": []
    },
    {
      "cell_type": "code",
      "source": [
        "def replace_name(name):\n",
        "    if name in user_name:\n",
        "        return user_name[name]"
      ],
      "metadata": {
        "id": "X4HYFbSkpdkt"
      },
      "execution_count": null,
      "outputs": []
    },
    {
      "cell_type": "code",
      "source": [
        "df[\"Author\"]= df[\"Author\"].apply(lambda x: replace_name(x))"
      ],
      "metadata": {
        "id": "7nIUCP2ipv_5"
      },
      "execution_count": null,
      "outputs": []
    },
    {
      "cell_type": "code",
      "source": [
        "df.to_csv('posts_final.csv', index=False)"
      ],
      "metadata": {
        "id": "6PoRFSTCrL7Y"
      },
      "execution_count": null,
      "outputs": []
    },
    {
      "cell_type": "code",
      "source": [
        "arq = \"labels.txt\"\n",
        "with open(arq, \"w\") as f:\n",
        "    f.write(str(user_name))"
      ],
      "metadata": {
        "id": "1eqsddPmrNHR"
      },
      "execution_count": null,
      "outputs": []
    },
    {
      "cell_type": "code",
      "source": [],
      "metadata": {
        "id": "RZ5NDOGqsjpJ"
      },
      "execution_count": null,
      "outputs": []
    }
  ]
}